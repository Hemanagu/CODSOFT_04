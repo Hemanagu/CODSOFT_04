{
 "cells": [
  {
   "cell_type": "code",
   "execution_count": 2,
   "id": "805e1f98-acc6-4395-a2ee-3d328f8f6444",
   "metadata": {},
   "outputs": [
    {
     "name": "stdout",
     "output_type": "stream",
     "text": [
      "Welcome to Rock, Paper, Scissors!\n"
     ]
    },
    {
     "name": "stdin",
     "output_type": "stream",
     "text": [
      "\n",
      "Enter your choice (rock/paper/scissors):  rock\n"
     ]
    },
    {
     "name": "stdout",
     "output_type": "stream",
     "text": [
      "Computer chose: scissors\n",
      "You win!\n",
      "Your score: 1\n",
      "Computer's score: 0\n"
     ]
    },
    {
     "name": "stdin",
     "output_type": "stream",
     "text": [
      "\n",
      "Do you want to play again? (yes/no):  no\n"
     ]
    },
    {
     "name": "stdout",
     "output_type": "stream",
     "text": [
      "Final scores:\n",
      "Your score: 1\n",
      "Computer's score: 0\n",
      "Thanks for playing! Goodbye.\n"
     ]
    }
   ],
   "source": [
    "import random\n",
    "\n",
    "def get_computer_choice():\n",
    "    choices = ['rock', 'paper', 'scissors']\n",
    "    return random.choice(choices)\n",
    "\n",
    "def determine_winner(player_choice, computer_choice):\n",
    "    if player_choice == computer_choice:\n",
    "        return \"It's a tie!\", 0, 0\n",
    "    elif (player_choice == 'rock' and computer_choice == 'scissors') or \\\n",
    "         (player_choice == 'paper' and computer_choice == 'rock') or \\\n",
    "         (player_choice == 'scissors' and computer_choice == 'paper'):\n",
    "        return \"You win!\", 1, 0\n",
    "    else:\n",
    "        return \"Computer wins!\", 0, 1\n",
    "\n",
    "def main():\n",
    "    print(\"Welcome to Rock, Paper, Scissors!\")\n",
    "\n",
    "    player_score = 0\n",
    "    computer_score = 0\n",
    "\n",
    "    while True:\n",
    "        player_choice = input(\"\\nEnter your choice (rock/paper/scissors): \").lower()\n",
    "        if player_choice not in ['rock', 'paper', 'scissors']:\n",
    "            print(\"Invalid choice. Please enter rock, paper, or scissors.\")\n",
    "            continue\n",
    "\n",
    "        computer_choice = get_computer_choice()\n",
    "        print(\"Computer chose:\", computer_choice)\n",
    "\n",
    "        result, player_points, computer_points = determine_winner(player_choice, computer_choice)\n",
    "        player_score += player_points\n",
    "        computer_score += computer_points\n",
    "\n",
    "        print(result)\n",
    "        print(\"Your score:\", player_score)\n",
    "        print(\"Computer's score:\", computer_score)\n",
    "\n",
    "        play_again = input(\"\\nDo you want to play again? (yes/no): \").lower()\n",
    "        if play_again != 'yes':\n",
    "            print(\"Final scores:\")\n",
    "            print(\"Your score:\", player_score)\n",
    "            print(\"Computer's score:\", computer_score)\n",
    "            print(\"Thanks for playing! Goodbye.\")\n",
    "            break\n",
    "\n",
    "if __name__ == \"__main__\":\n",
    "    main()\n"
   ]
  },
  {
   "cell_type": "code",
   "execution_count": null,
   "id": "78d594b4-3ee1-4982-9c62-cdd85beac2cc",
   "metadata": {},
   "outputs": [],
   "source": []
  }
 ],
 "metadata": {
  "kernelspec": {
   "display_name": "Python 3 (ipykernel)",
   "language": "python",
   "name": "python3"
  },
  "language_info": {
   "codemirror_mode": {
    "name": "ipython",
    "version": 3
   },
   "file_extension": ".py",
   "mimetype": "text/x-python",
   "name": "python",
   "nbconvert_exporter": "python",
   "pygments_lexer": "ipython3",
   "version": "3.11.7"
  }
 },
 "nbformat": 4,
 "nbformat_minor": 5
}
